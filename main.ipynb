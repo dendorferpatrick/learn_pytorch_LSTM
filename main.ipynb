{
 "cells": [
  {
   "cell_type": "markdown",
   "metadata": {},
   "source": [
    "# Pytorch LSTM example "
   ]
  },
  {
   "cell_type": "code",
   "execution_count": null,
   "metadata": {},
   "outputs": [],
   "source": []
  },
  {
   "cell_type": "code",
   "execution_count": null,
   "metadata": {},
   "outputs": [],
   "source": []
  },
  {
   "cell_type": "code",
   "execution_count": 524,
   "metadata": {},
   "outputs": [],
   "source": [
    "import numpy as np\n",
    "import pandas as pd\n",
    "import matplotlib.pyplot as plt\n",
    "import torch\n",
    "%matplotlib inline"
   ]
  },
  {
   "cell_type": "code",
   "execution_count": null,
   "metadata": {},
   "outputs": [],
   "source": []
  },
  {
   "cell_type": "code",
   "execution_count": 525,
   "metadata": {},
   "outputs": [
    {
     "name": "stdout",
     "output_type": "stream",
     "text": [
      "True\n"
     ]
    }
   ],
   "source": [
    "use_gpu=torch.cuda.is_available()\n",
    "print(use_gpu)"
   ]
  },
  {
   "cell_type": "code",
   "execution_count": 526,
   "metadata": {},
   "outputs": [],
   "source": [
    "data_csv = pd.read_csv('data/international-airline-passengers.csv', usecols=[1])\n",
    "look_back=20"
   ]
  },
  {
   "cell_type": "code",
   "execution_count": 527,
   "metadata": {},
   "outputs": [
    {
     "data": {
      "image/png": "[encoded data removed]",
      "text/plain": [
       "<Figure size 432x288 with 1 Axes>"
      ]
     },
     "metadata": {},
     "output_type": "display_data"
    }
   ],
   "source": [
    "plt.plot(data_csv)\n",
    "plt.xlabel(\"Time\")\n",
    "plt.ylabel(\"Number of passengers\")\n",
    "plt.show()"
   ]
  },
  {
   "cell_type": "markdown",
   "metadata": {},
   "source": []
  },
  {
   "cell_type": "code",
   "execution_count": 528,
   "metadata": {},
   "outputs": [],
   "source": [
    "\n",
    "data_csv = data_csv.dropna()\n",
    "dataset = data_csv.values\n",
    "dataset = dataset.astype('float32')\n",
    "max_value = np.max(dataset)\n",
    "min_value = np.min(dataset)\n",
    "scalar = max_value - min_value\n",
    "dataset = list(map(lambda x: x / scalar, dataset))"
   ]
  },
  {
   "cell_type": "markdown",
   "metadata": {},
   "source": []
  },
  {
   "cell_type": "code",
   "execution_count": 529,
   "metadata": {},
   "outputs": [],
   "source": [
    "def create_dataset(dataset, look_back):\n",
    "    dataX, dataY = [], []\n",
    "    for i in range(len(dataset) - look_back):\n",
    "        a = dataset[i:(i + look_back)]\n",
    "        dataX.append(a)\n",
    "        dataY.append(dataset[i + look_back])\n",
    "    return np.array(dataX), np.array(dataY)"
   ]
  },
  {
   "cell_type": "code",
   "execution_count": 530,
   "metadata": {},
   "outputs": [
    {
     "name": "stdout",
     "output_type": "stream",
     "text": [
      "20\n"
     ]
    }
   ],
   "source": [
    "\n",
    "data_X, data_Y = create_dataset(dataset, look_back)\n",
    "print(look_back)"
   ]
  },
  {
   "cell_type": "code",
   "execution_count": 531,
   "metadata": {},
   "outputs": [],
   "source": [
    "\n",
    "train_size = int(len(data_X) * 0.7)\n",
    "test_size = len(data_X) - train_size\n",
    "train_X = data_X[:train_size]\n",
    "train_Y = data_Y[:train_size]\n",
    "test_X = data_X[train_size:]\n",
    "test_Y = data_Y[train_size:]"
   ]
  },
  {
   "cell_type": "markdown",
   "metadata": {},
   "source": []
  },
  {
   "cell_type": "code",
   "execution_count": 542,
   "metadata": {},
   "outputs": [
    {
     "name": "stdout",
     "output_type": "stream",
     "text": [
      "1720\n"
     ]
    }
   ],
   "source": [
    "\n",
    "\n",
    "train_X = train_X.reshape(-1, 1, look_back)\n",
    "train_Y = train_Y.reshape(-1, 1, 1)\n",
    "test_X = test_X.reshape(-1, 1, look_back)\n",
    "\n",
    "train_x = torch.from_numpy(train_X).cuda()\n",
    "train_y = torch.from_numpy(train_Y).cuda()\n",
    "test_x = torch.from_numpy(test_X).cuda()\n",
    "print(train_X.size)"
   ]
  },
  {
   "cell_type": "code",
   "execution_count": 533,
   "metadata": {},
   "outputs": [],
   "source": [
    "from torch import nn\n",
    "from torch.autograd import Variable"
   ]
  },
  {
   "cell_type": "markdown",
   "metadata": {},
   "source": []
  },
  {
   "cell_type": "code",
   "execution_count": 534,
   "metadata": {},
   "outputs": [],
   "source": [
    "\n",
    "class lstm_reg(nn.Module):\n",
    "    def __init__(self, input_size, hidden_size, output_size=1, num_layers=2):\n",
    "        super(lstm_reg, self).__init__()\n",
    "        \n",
    "        self.rnn = nn.LSTM(input_size, hidden_size, num_layers) # rnn\n",
    "        self.reg = nn.Linear(hidden_size, output_size) \n",
    "        \n",
    "    def forward(self, x):\n",
    "        x, _ = self.rnn(x) # (seq, batch, hidden)\n",
    "        s, b, h = x.shape\n",
    "        x = x.view(s*b, h)\n",
    "        x = self.reg(x)\n",
    "        x = x.view(s, b, -1)\n",
    "        return x\n",
    "    \n",
    "    def predict(self, inp, input_size, future=0):\n",
    "        outputs=[]\n",
    "        for i in range(future):# if we should predict the future\n",
    "            x, _ = self.rnn(inp) # (seq, batch, hidden)\n",
    "            s, b, h = x.shape\n",
    "            x = x.view(s*b, h)\n",
    "            x = self.reg(x)\n",
    "            x = x.view(s, b, -1)\n",
    "            outputs += [x]\n",
    "            inp[:,:,:(input_size-1)]=inp[:,:,1:]\n",
    "            inp[:,:,-1]=x.item()\n",
    "        outputs = torch.stack(outputs, 1).squeeze(2)\n",
    "        return outputs"
   ]
  },
  {
   "cell_type": "code",
   "execution_count": 535,
   "metadata": {},
   "outputs": [],
   "source": [
    "net = lstm_reg(look_back, 4).cuda()\n",
    "\n",
    "criterion = nn.MSELoss()\n",
    "optimizer = torch.optim.Adam(net.parameters(), lr=1e-2)"
   ]
  },
  {
   "cell_type": "markdown",
   "metadata": {},
   "source": []
  },
  {
   "cell_type": "code",
   "execution_count": 536,
   "metadata": {},
   "outputs": [
    {
     "name": "stdout",
     "output_type": "stream",
     "text": [
      "Epoch: 100, Loss: 0.01847\n",
      "Epoch: 200, Loss: 0.00531\n",
      "Epoch: 300, Loss: 0.00203\n",
      "Epoch: 400, Loss: 0.00153\n",
      "Epoch: 500, Loss: 0.00110\n",
      "Epoch: 600, Loss: 0.00085\n",
      "Epoch: 700, Loss: 0.00075\n",
      "Epoch: 800, Loss: 0.00065\n",
      "Epoch: 900, Loss: 0.00061\n",
      "Epoch: 1000, Loss: 0.00052\n",
      "Epoch: 1100, Loss: 0.00047\n",
      "Epoch: 1200, Loss: 0.00042\n",
      "Epoch: 1300, Loss: 0.00038\n",
      "Epoch: 1400, Loss: 0.00035\n",
      "Epoch: 1500, Loss: 0.00032\n",
      "Epoch: 1600, Loss: 0.00030\n",
      "Epoch: 1700, Loss: 0.00029\n",
      "Epoch: 1800, Loss: 0.00027\n",
      "Epoch: 1900, Loss: 0.00026\n",
      "Epoch: 2000, Loss: 0.00025\n",
      "Epoch: 2100, Loss: 0.00025\n",
      "Epoch: 2200, Loss: 0.00024\n",
      "Epoch: 2300, Loss: 0.00024\n",
      "Epoch: 2400, Loss: 0.00023\n",
      "Epoch: 2500, Loss: 0.00023\n",
      "Epoch: 2600, Loss: 0.00022\n",
      "Epoch: 2700, Loss: 0.00022\n",
      "Epoch: 2800, Loss: 0.00021\n",
      "Epoch: 2900, Loss: 0.00021\n",
      "Epoch: 3000, Loss: 0.00021\n",
      "38.52178144454956\n"
     ]
    }
   ],
   "source": [
    "import time\n",
    "time0=time.time()\n",
    "for e in range(3000):\n",
    "    var_x = Variable(train_x)\n",
    "    var_y = Variable(train_y)\n",
    "\n",
    "    out = net(var_x)\n",
    "    loss = criterion(out, var_y)\n",
    "\n",
    "    optimizer.zero_grad()\n",
    "    loss.backward()\n",
    "    optimizer.step()\n",
    "    if (e + 1) % 100 == 0: \n",
    "        print('Epoch: {}, Loss: {:.5f}'.format(e + 1, loss.item()))\n",
    "time1=time.time()\n",
    "print(time1-time0)"
   ]
  },
  {
   "cell_type": "code",
   "execution_count": null,
   "metadata": {},
   "outputs": [],
   "source": []
  },
  {
   "cell_type": "code",
   "execution_count": 537,
   "metadata": {},
   "outputs": [],
   "source": [
    "net = net.eval() "
   ]
  },
  {
   "cell_type": "code",
   "execution_count": 543,
   "metadata": {},
   "outputs": [],
   "source": [
    "data_X = train_X.reshape(-1, 1, look_back)\n",
    "data_X = torch.from_numpy(data_X).cuda()\n",
    "var_data = Variable(data_X)\n",
    "pred_test = net(var_data) \n",
    "\n"
   ]
  },
  {
   "cell_type": "code",
   "execution_count": 550,
   "metadata": {},
   "outputs": [
    {
     "name": "stdout",
     "output_type": "stream",
     "text": [
      "tensor([[ 0.6120,  0.6042,  0.6139,  0.7220,  0.7973,  0.7819,  0.6853,\n",
      "          0.5907,  0.5232,  0.5907,  0.6081,  0.5811,  0.6873,  0.6718,\n",
      "          0.6853,  0.8147,  0.8977,  0.9015,  0.7799,  0.6699]], device='cuda:0')\n",
      "tensor([[ 0.2162,  0.2278,  0.2548,  0.2490,  0.2336,  0.2606,  0.2857,\n",
      "          0.2857,  0.2625,  0.2297,  0.2008,  0.2278,  0.2220,  0.2432,\n",
      "          0.2722,  0.2606,  0.2413,  0.2876,  0.3282,  0.3282]], device='cuda:0')\n",
      "tensor([[[ 0.3060]]], device='cuda:0')\n",
      "tensor([[[ 0.3060],\n",
      "         [ 0.2891],\n",
      "         [ 0.2848],\n",
      "         [ 0.2951],\n",
      "         [ 0.2984],\n",
      "         [ 0.3105],\n",
      "         [ 0.3241],\n",
      "         [ 0.3206],\n",
      "         [ 0.3242],\n",
      "         [ 0.3423],\n",
      "         [ 0.3510],\n",
      "         [ 0.3427],\n",
      "         [ 0.3333],\n",
      "         [ 0.3270],\n",
      "         [ 0.3262],\n",
      "         [ 0.3292],\n",
      "         [ 0.3341],\n",
      "         [ 0.3424],\n",
      "         [ 0.3483],\n",
      "         [ 0.3485],\n",
      "         [ 0.3520],\n",
      "         [ 0.3569],\n",
      "         [ 0.3558],\n",
      "         [ 0.3499],\n",
      "         [ 0.3456],\n",
      "         [ 0.3437],\n",
      "         [ 0.3440],\n",
      "         [ 0.3466],\n",
      "         [ 0.3507],\n",
      "         [ 0.3553],\n",
      "         [ 0.3577],\n",
      "         [ 0.3582],\n",
      "         [ 0.3591],\n",
      "         [ 0.3591],\n",
      "         [ 0.3565],\n",
      "         [ 0.3534],\n",
      "         [ 0.3518],\n",
      "         [ 0.3516],\n",
      "         [ 0.3527],\n",
      "         [ 0.3549],\n",
      "         [ 0.3576],\n",
      "         [ 0.3597],\n",
      "         [ 0.3605],\n",
      "         [ 0.3603],\n",
      "         [ 0.3599],\n",
      "         [ 0.3586],\n",
      "         [ 0.3568],\n",
      "         [ 0.3555],\n",
      "         [ 0.3553],\n",
      "         [ 0.3558],\n",
      "         [ 0.3570],\n",
      "         [ 0.3586],\n",
      "         [ 0.3600],\n",
      "         [ 0.3607],\n",
      "         [ 0.3606],\n",
      "         [ 0.3601],\n",
      "         [ 0.3593],\n",
      "         [ 0.3583],\n",
      "         [ 0.3574],\n",
      "         [ 0.3571],\n",
      "         [ 0.3574],\n",
      "         [ 0.3581],\n",
      "         [ 0.3590],\n",
      "         [ 0.3599],\n",
      "         [ 0.3604],\n",
      "         [ 0.3604],\n",
      "         [ 0.3601],\n",
      "         [ 0.3595],\n",
      "         [ 0.3589],\n",
      "         [ 0.3583],\n",
      "         [ 0.3581],\n",
      "         [ 0.3582],\n",
      "         [ 0.3587],\n",
      "         [ 0.3592],\n",
      "         [ 0.3597],\n",
      "         [ 0.3601],\n",
      "         [ 0.3601],\n",
      "         [ 0.3599],\n",
      "         [ 0.3596],\n",
      "         [ 0.3592],\n",
      "         [ 0.3588],\n",
      "         [ 0.3587],\n",
      "         [ 0.3587],\n",
      "         [ 0.3589],\n",
      "         [ 0.3593],\n",
      "         [ 0.3596],\n",
      "         [ 0.3598],\n",
      "         [ 0.3599],\n",
      "         [ 0.3598],\n",
      "         [ 0.3596],\n",
      "         [ 0.3593],\n",
      "         [ 0.3591],\n",
      "         [ 0.3590],\n",
      "         [ 0.3590],\n",
      "         [ 0.3591],\n",
      "         [ 0.3593],\n",
      "         [ 0.3595],\n",
      "         [ 0.3597],\n",
      "         [ 0.3597],\n",
      "         [ 0.3597],\n",
      "         [ 0.3595],\n",
      "         [ 0.3594],\n",
      "         [ 0.3592],\n",
      "         [ 0.3591],\n",
      "         [ 0.3591],\n",
      "         [ 0.3592],\n",
      "         [ 0.3593],\n",
      "         [ 0.3595],\n",
      "         [ 0.3596],\n",
      "         [ 0.3596],\n",
      "         [ 0.3596],\n",
      "         [ 0.3595],\n",
      "         [ 0.3594],\n",
      "         [ 0.3593],\n",
      "         [ 0.3592],\n",
      "         [ 0.3592],\n",
      "         [ 0.3593],\n",
      "         [ 0.3594],\n",
      "         [ 0.3594],\n",
      "         [ 0.3595],\n",
      "         [ 0.3595],\n",
      "         [ 0.3595],\n",
      "         [ 0.3595],\n",
      "         [ 0.3594],\n",
      "         [ 0.3593],\n",
      "         [ 0.3593],\n",
      "         [ 0.3593],\n",
      "         [ 0.3593],\n",
      "         [ 0.3594],\n",
      "         [ 0.3594],\n",
      "         [ 0.3595],\n",
      "         [ 0.3595],\n",
      "         [ 0.3595],\n",
      "         [ 0.3595],\n",
      "         [ 0.3594],\n",
      "         [ 0.3594],\n",
      "         [ 0.3593],\n",
      "         [ 0.3593],\n",
      "         [ 0.3594],\n",
      "         [ 0.3594]]], device='cuda:0')\n"
     ]
    }
   ],
   "source": [
    "print(test_x[0])\n",
    "t=data_X[0].clone()\n",
    "print(t.unsqueeze(1)[0,:,:])\n",
    "print(net(t.unsqueeze(0)))\n",
    "pred_test=net.predict(t.unsqueeze(1)[:,:,:],look_back , 140)\n",
    "print(pred_test)"
   ]
  },
  {
   "cell_type": "code",
   "execution_count": 551,
   "metadata": {},
   "outputs": [
    {
     "name": "stdout",
     "output_type": "stream",
     "text": [
      "[0.30601543 0.2890532  0.28477722 0.2951352  0.298418   0.31049144\n",
      " 0.32408804 0.32059872 0.3242135  0.3422773  0.35096878 0.34267992\n",
      " 0.33330566 0.32704794 0.32618654 0.3292294  0.33405447 0.3423583\n",
      " 0.3483051  0.34851897 0.35200638 0.3569156  0.3557678  0.34991068\n",
      " 0.34564555 0.3437001  0.343952   0.3466     0.35070783 0.35533184\n",
      " 0.3576867  0.3582012  0.35914886 0.35907954 0.35648453 0.35336024\n",
      " 0.35180265 0.35163218 0.35267317 0.3549499  0.3576281  0.3597346\n",
      " 0.36045414 0.36031526 0.35985392 0.35862386 0.3568213  0.35553086\n",
      " 0.35530347 0.3558442  0.35701257 0.3585841  0.35996544 0.360676\n",
      " 0.36060518 0.36007136 0.35927576 0.35826796 0.35740942 0.3571164\n",
      " 0.35742253 0.35809904 0.3589893  0.3598544  0.3603775  0.36041886\n",
      " 0.36005765 0.35949486 0.35887676 0.35834664 0.35810357 0.3582375\n",
      " 0.3586526  0.35918707 0.35970813 0.36006296 0.36013353 0.35993046\n",
      " 0.3595608  0.3591566  0.35882288 0.35865146 0.35870153 0.35894352\n",
      " 0.35927808 0.3596003  0.3598274  0.35989398 0.35978597 0.3595578\n",
      " 0.35929477 0.35907698 0.3589605  0.35897577 0.3591135  0.35932022\n",
      " 0.35952562 0.35967165 0.35972238 0.35966694 0.35952967 0.35936248\n",
      " 0.35921907 0.35913914 0.3591407  0.35921884 0.3593449  0.3594756\n",
      " 0.35957164 0.35960835 0.35957992 0.35949868 0.359394   0.35930037\n",
      " 0.35924524 0.3592412  0.35928565 0.359362   0.35944474 0.35950792\n",
      " 0.35953468 0.35952026 0.35947222 0.35940742 0.359347   0.35930914\n",
      " 0.35930336 0.35932845 0.3593747  0.35942668 0.35946804 0.35948735\n",
      " 0.35948068 0.3594523  0.35941225 0.35937363 0.359348   0.35934216\n",
      " 0.3593561  0.35938412]\n"
     ]
    }
   ],
   "source": [
    "\n",
    "pred_test = pred_test.view(-1).cpu().data.numpy()\n",
    "print(pred_test)"
   ]
  },
  {
   "cell_type": "code",
   "execution_count": 552,
   "metadata": {},
   "outputs": [
    {
     "data": {
      "text/plain": [
       "<matplotlib.legend.Legend at 0x7fa39425b9e8>"
      ]
     },
     "execution_count": 552,
     "metadata": {},
     "output_type": "execute_result"
    },
    {
     "data": {
      "image/png": "[encoded data removed]",
      "text/plain": [
       "<Figure size 432x288 with 1 Axes>"
      ]
     },
     "metadata": {},
     "output_type": "display_data"
    }
   ],
   "source": [
    "\n",
    "plt.plot(pred_test, 'r', label='prediction')\n",
    "plt.plot(dataset, 'b', label='real')\n",
    "plt.legend(loc='best')"
   ]
  },
  {
   "cell_type": "markdown",
   "metadata": {},
   "source": []
  },
  {
   "cell_type": "markdown",
   "metadata": {},
   "source": []
  }
 ],
 "metadata": {
  "kernelspec": {
   "display_name": "Python 3",
   "language": "python",
   "name": "python3"
  },
  "language_info": {
   "codemirror_mode": {
    "name": "ipython",
    "version": 3
   },
   "file_extension": ".py",
   "mimetype": "text/x-python",
   "name": "python",
   "nbconvert_exporter": "python",
   "pygments_lexer": "ipython3",
   "version": "3.6.3"
  }
 },
 "nbformat": 4,
 "nbformat_minor": 2
}
